{
 "cells": [
  {
   "cell_type": "code",
   "execution_count": 2,
   "metadata": {},
   "outputs": [
    {
     "name": "stdout",
     "output_type": "stream",
     "text": [
      "[*********************100%***********************]  4 of 4 completed\n",
      "[*********************100%***********************]  4 of 4 completed\n"
     ]
    },
    {
     "name": "stderr",
     "output_type": "stream",
     "text": [
      "c:\\Users\\mehme\\AppData\\Local\\Programs\\Python\\Python311\\Lib\\site-packages\\sklearn\\base.py:432: UserWarning: X has feature names, but RandomForestRegressor was fitted without feature names\n",
      "  warnings.warn(\n"
     ]
    },
    {
     "name": "stdout",
     "output_type": "stream",
     "text": [
      "Portföy VaR (99.0%): -77.039808\n"
     ]
    }
   ],
   "source": [
    "import yfinance as yf\n",
    "import numpy as np\n",
    "from sklearn.ensemble import RandomForestRegressor\n",
    "\n",
    "# Hisse senedi sembollerini belirleyin\n",
    "stock_symbols = ['YKBNK.IS', \"GARAN.IS\",'AKBNK.IS', 'ISCTR.IS']\n",
    "\n",
    "# Diğer faktör sembollerini belirleyin\n",
    "factor_symbols = ['^VIX', 'USDTRY=X', 'GC=F', 'CL=F']  # Korku endeksi, Dolar/TL, Altın/TL, Petrol fiyatı\n",
    "\n",
    "# Veri aralığı\n",
    "start_date = '2018-08-10'\n",
    "end_date = '2023-08-10'\n",
    "\n",
    "# Hisse senedi ve faktör verilerini çekin\n",
    "stock_data = yf.download(stock_symbols, period=\"5y\")['Adj Close']\n",
    "factor_data = yf.download(factor_symbols, period=\"5y\")['Adj Close']\n",
    "\n",
    "# Günlük getirileri hesaplayın\n",
    "stock_returns = stock_data.pct_change().dropna()\n",
    "factor_returns = factor_data.pct_change().dropna()\n",
    "\n",
    "# Veri hazırlığı\n",
    "all_data = stock_returns.join(factor_returns)\n",
    "all_data.dropna(inplace=True)\n",
    "\n",
    "# Bağımlı değişken olarak portföy getirileri, bağımsız değişkenler olarak faktör getirileri\n",
    "X = all_data[factor_symbols].values\n",
    "y = all_data[stock_symbols].mean(axis=1).values\n",
    "\n",
    "# Modeli eğitin\n",
    "model = RandomForestRegressor(n_estimators=100, random_state=42)\n",
    "model.fit(X, y)\n",
    "\n",
    "# Portföy getirilerini hesaplayın\n",
    "portfolio_returns = model.predict(factor_returns)\n",
    "\n",
    "# Monte Carlo Simülasyonu ile VaR hesaplaması\n",
    "confidence_level = 0.99\n",
    "num_simulations = 100000  # Simülasyon sayısı\n",
    "\n",
    "portfolio_values = []\n",
    "for _ in range(num_simulations):\n",
    "    simulated_returns = np.random.choice(portfolio_returns, size=len(portfolio_returns))\n",
    "    simulated_portfolio_value = 1 + simulated_returns\n",
    "    portfolio_values.append(np.prod(simulated_portfolio_value))\n",
    "\n",
    "portfolio_values = np.array(portfolio_values)\n",
    "portfolio_values.sort()\n",
    "\n",
    "var_index = int(num_simulations * (1 - confidence_level))\n",
    "portfolio_var = 1 - portfolio_values[var_index]\n",
    "\n",
    "# Sonucu yazdırın\n",
    "print(f\"Portföy VaR ({confidence_level * 100}%): {portfolio_var:.6f}\")\n"
   ]
  }
 ],
 "metadata": {
  "kernelspec": {
   "display_name": "Python 3",
   "language": "python",
   "name": "python3"
  },
  "language_info": {
   "codemirror_mode": {
    "name": "ipython",
    "version": 3
   },
   "file_extension": ".py",
   "mimetype": "text/x-python",
   "name": "python",
   "nbconvert_exporter": "python",
   "pygments_lexer": "ipython3",
   "version": "3.11.2"
  },
  "orig_nbformat": 4
 },
 "nbformat": 4,
 "nbformat_minor": 2
}
