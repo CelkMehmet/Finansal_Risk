{
 "cells": [
  {
   "cell_type": "code",
   "execution_count": 1,
   "metadata": {},
   "outputs": [
    {
     "name": "stdout",
     "output_type": "stream",
     "text": [
      "[*********************100%***********************]  4 of 4 completed\n",
      "[*********************100%***********************]  4 of 4 completed\n",
      "Portföy VaR (99.0%): -0.20\n"
     ]
    },
    {
     "name": "stderr",
     "output_type": "stream",
     "text": [
      "c:\\Users\\mehme\\AppData\\Local\\Programs\\Python\\Python311\\Lib\\site-packages\\sklearn\\base.py:432: UserWarning: X has feature names, but RandomForestRegressor was fitted without feature names\n",
      "  warnings.warn(\n",
      "c:\\Users\\mehme\\AppData\\Local\\Programs\\Python\\Python311\\Lib\\site-packages\\arch\\univariate\\base.py:311: DataScaleWarning: y is poorly scaled, which may affect convergence of the optimizer when\n",
      "estimating the model parameters. The scale of y is 8.242e-05. Parameter\n",
      "estimation work better when this value is between 1 and 1000. The recommended\n",
      "rescaling is 100 * y.\n",
      "\n",
      "This warning can be disabled by either rescaling y before initializing the\n",
      "model or by setting rescale=False.\n",
      "\n",
      "  warnings.warn(\n"
     ]
    }
   ],
   "source": [
    "import yfinance as yf\n",
    "import numpy as np\n",
    "from sklearn.ensemble import RandomForestRegressor\n",
    "from arch import arch_model\n",
    "\n",
    "# Hisse senedi sembollerini belirleyin\n",
    "stock_symbols = ['YKBNK.IS', \"GARAN.IS\",'AKBNK.IS', 'ISCTR.IS']\n",
    "\n",
    "# Diğer faktör sembollerini belirleyin\n",
    "factor_symbols = ['^VIX', 'USDTRY=X', 'GC=F', 'CL=F']  # Korku endeksi, Dolar/TL, Altın/TL, Petrol fiyatı\n",
    "\n",
    "# Veri aralığı\n",
    "start_date = '2018-08-10'\n",
    "end_date = '2023-08-10'\n",
    "\n",
    "# Hisse senedi ve faktör verilerini çekin\n",
    "stock_data = yf.download(stock_symbols, period=\"5y\")['Adj Close']\n",
    "factor_data = yf.download(factor_symbols, period=\"5y\")['Adj Close']\n",
    "\n",
    "# Günlük getirileri hesaplayın\n",
    "stock_returns = stock_data.pct_change().dropna()\n",
    "factor_returns = factor_data.pct_change().dropna()\n",
    "\n",
    "# Veri hazırlığı\n",
    "all_data = stock_returns.join(factor_returns)\n",
    "all_data.dropna(inplace=True)\n",
    "\n",
    "# Bağımlı değişken olarak portföy getirileri, bağımsız değişkenler olarak faktör getirileri\n",
    "X = all_data[factor_symbols].values\n",
    "y = all_data[stock_symbols].mean(axis=1).values\n",
    "\n",
    "# Modeli eğitin\n",
    "model = RandomForestRegressor(n_estimators=100, random_state=42)\n",
    "model.fit(X, y)\n",
    "\n",
    "# Portföy getirilerini hesaplayın\n",
    "portfolio_returns = model.predict(factor_returns)\n",
    "\n",
    "# GARCH modelini uygulayın ve portföy volatilitesini elde edin\n",
    "model = arch_model(portfolio_returns, vol='Garch', p=1, q=1)\n",
    "model_fit = model.fit(disp='off')\n",
    "portfolio_volatility = model_fit.conditional_volatility\n",
    "\n",
    "# Güven seviyesi\n",
    "confidence_level = 0.99\n",
    "\n",
    "# VaR hesaplaması\n",
    "z_score = np.percentile(np.random.normal(size=100000), (1 - confidence_level) * 100)\n",
    "portfolio_var = np.sqrt(portfolio_volatility[-1]) * z_score\n",
    "\n",
    "# Sonucu yazdırın\n",
    "print(f\"Portföy VaR ({confidence_level * 100}%): {portfolio_var:.2f}\")\n"
   ]
  }
 ],
 "metadata": {
  "kernelspec": {
   "display_name": "Python 3",
   "language": "python",
   "name": "python3"
  },
  "language_info": {
   "codemirror_mode": {
    "name": "ipython",
    "version": 3
   },
   "file_extension": ".py",
   "mimetype": "text/x-python",
   "name": "python",
   "nbconvert_exporter": "python",
   "pygments_lexer": "ipython3",
   "version": "3.11.2"
  },
  "orig_nbformat": 4
 },
 "nbformat": 4,
 "nbformat_minor": 2
}
